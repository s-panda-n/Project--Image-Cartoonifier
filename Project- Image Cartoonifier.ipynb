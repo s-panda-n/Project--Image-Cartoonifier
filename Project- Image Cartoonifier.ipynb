{
 "cells": [
  {
   "cell_type": "markdown",
   "metadata": {},
   "source": [
    "# Step 1: Importing the required modules\n",
    "We will import the following modules:"
   ]
  },
  {
   "cell_type": "code",
   "execution_count": 20,
   "metadata": {},
   "outputs": [],
   "source": [
    "import cv2 #for image processing\n",
    "import easygui #to open the filebox\n",
    "import numpy as np #to store image\n",
    "import imageio #to read image stored at particular path\n",
    "\n",
    "import sys\n",
    "import matplotlib.pyplot as plt\n",
    "import os\n",
    "import tkinter as tk\n",
    "from tkinter import filedialog\n",
    "from tkinter import *\n",
    "from tkinter import messagebox \n",
    "from PIL import ImageTk, Image"
   ]
  },
  {
   "cell_type": "markdown",
   "metadata": {},
   "source": [
    "# Step 2: Building a File Box to choose a particular file\n",
    "In this step, we will build the main window of our application, where the buttons, labels, and images will reside. We also give it a title by title() function."
   ]
  },
  {
   "cell_type": "code",
   "execution_count": 21,
   "metadata": {},
   "outputs": [],
   "source": [
    "top=tk.Tk()\n",
    "top.geometry('800x600')\n",
    "top.title('Cartoonize your image!')\n",
    "top.configure(background='Black')\n",
    "label=Label(top,background='White', font=('times',30,'bold italic'))"
   ]
  },
  {
   "cell_type": "code",
   "execution_count": 22,
   "metadata": {},
   "outputs": [],
   "source": [
    "def upload():\n",
    "    ImagePath=easygui.fileopenbox()\n",
    "    cartoonify(ImagePath)"
   ]
  },
  {
   "cell_type": "markdown",
   "metadata": {},
   "source": [
    "# Step 3: Writing the main function"
   ]
  },
  {
   "cell_type": "code",
   "execution_count": 23,
   "metadata": {},
   "outputs": [],
   "source": [
    "def cartoonify(ImagePath):\n",
    "    # Reading the Image \n",
    "    image = cv2.imread(ImagePath)\n",
    "    dimensions = image.shape\n",
    "    cv2.imshow('OriginalImage', image)\n",
    "    cv2.waitKey()   \n",
    "    cv2.destroyAllWindows()\n",
    "    \n",
    "    #Finding the Edges of Image\n",
    "    gray = cv2.cvtColor(image, cv2.COLOR_BGR2GRAY) \n",
    "    gray = cv2.medianBlur(gray, 7) \n",
    "    edges = cv2.adaptiveThreshold(gray, 255, cv2.ADAPTIVE_THRESH_MEAN_C, cv2.THRESH_BINARY, 9, 10)\n",
    "    BWSketch, ColorSketch  = cv2.pencilSketch(image, sigma_s=60, sigma_r=0.5, shade_factor=0.01)\n",
    "    \n",
    "    #Displaying the pencil sketch of Image\n",
    "    BWSketch=cv2.resize(BWSketch, (dimensions[1],dimensions[0]))\n",
    "    ColorSketch=cv2.resize(ColorSketch, (dimensions[1],dimensions[0]))\n",
    "    cv2.imshow('BWSketch', BWSketch)  \n",
    "    cv2.waitKey()   \n",
    "    cv2.destroyAllWindows()\n",
    "    \n",
    "    # Making a rough Cartoon of the image\n",
    "    color = cv2.bilateralFilter(image, 12, 250, 250) \n",
    "    BasicCartoon = cv2.bitwise_and(color, color, mask=edges)\n",
    "    BasicCartoon=cv2.resize(BasicCartoon, (dimensions[1],dimensions[0]))\n",
    "    cv2.imshow('BasicCartoon', BasicCartoon)   \n",
    "    cv2.waitKey()   \n",
    "    cv2.destroyAllWindows()\n",
    "    \n",
    "    #converting to gray scale\n",
    "    grayImage = cv2.cvtColor(image, cv2.COLOR_BGR2GRAY)\n",
    "    #applying gaussian blur\n",
    "    grayImage = cv2.GaussianBlur(grayImage, (3, 3), 0)\n",
    "    #detecting edges\n",
    "    edgeImage = cv2.Laplacian(grayImage, -1, ksize=5)\n",
    "    edgeImage = 255 - edgeImage\n",
    "    #threshold image\n",
    "    ret, edgeImage = cv2.threshold(edgeImage, 150, 255, cv2.THRESH_BINARY)\n",
    "    #blur images heavily using edgePreservingFilter\n",
    "    edgePreservingImage = cv2.edgePreservingFilter(image, flags=2, sigma_s=50, sigma_r=0.4)\n",
    "    #create output matrix\n",
    "    output =np.zeros(grayImage.shape)\n",
    "    \n",
    "    # Displaying a restyled Image\n",
    "    StyledCartoon = cv2.stylization(image, sigma_s=150, sigma_r=0.05)\n",
    "    StyledCartoon=cv2.resize(StyledCartoon, (dimensions[1],dimensions[0]))\n",
    "    cv2.imshow('StyledCartoon', StyledCartoon)  \n",
    "    cv2.waitKey()   \n",
    "    cv2.destroyAllWindows()\n",
    "    \n",
    "    #combine cartoon image and edges image\n",
    "    CartoonizedImage = cv2.bitwise_and(edgePreservingImage, edgePreservingImage, mask=edgeImage)\n",
    "    CartoonizedImage=cv2.resize(CartoonizedImage, (dimensions[1],dimensions[0]))\n",
    "    \n",
    "    # Saving the final Image\n",
    "    save1=Button(top,text=\"Save the cartoonized image\",command=lambda: save(StyledCartoon, ImagePath),padx=30,pady=5)\n",
    "    save1.configure(background='white', foreground='red',font=('helvetica',15,'bold'))\n",
    "    save1.pack(side=TOP,pady=50)\n",
    "    \n",
    "    # Dispalying the Cartoonized Image\n",
    "    cv2.imshow('CartoonizedImage', CartoonizedImage)    \n",
    "    cv2.waitKey()    \n",
    "    cv2.destroyAllWindows()\n",
    "    \n",
    "    # Click to Quit\n",
    "    button = tk.Button(text = \"Click and Quit\", command = top.destroy)\n",
    "    button.pack()"
   ]
  },
  {
   "cell_type": "markdown",
   "metadata": {},
   "source": [
    "# Step 4: Saving the Cartoonized Image"
   ]
  },
  {
   "cell_type": "code",
   "execution_count": 24,
   "metadata": {},
   "outputs": [],
   "source": [
    "def save(StyledCartoon, ImagePath):\n",
    "    #saving an image using imwrite()\n",
    "    newName=\"cartoonified_Image\"\n",
    "    path1 = os.path.dirname(ImagePath)\n",
    "    extension=os.path.splitext(ImagePath)[1]\n",
    "    path = os.path.join(path1, newName+extension)\n",
    "    cv2.imwrite(path, cv2.cvtColor(StyledCartoon, cv2.COLOR_RGB2BGR))\n",
    "    I= \"Image saved by name \" + newName +\" at \"+ path\n",
    "    messagebox.showinfo(\"showinfo\", I) "
   ]
  },
  {
   "cell_type": "markdown",
   "metadata": {},
   "source": [
    "# Step 5: Code for Displayed Dialogue box"
   ]
  },
  {
   "cell_type": "code",
   "execution_count": 25,
   "metadata": {},
   "outputs": [],
   "source": [
    "upload=Button(top,text=\"Select your Image\",command=upload,padx=20,pady=15)\n",
    "upload.configure(background='white', foreground='red',font=('helvetica',15,'bold'))\n",
    "upload.pack(side=TOP,pady=50)\n",
    "\n",
    "top.mainloop()"
   ]
  },
  {
   "cell_type": "code",
   "execution_count": null,
   "metadata": {},
   "outputs": [],
   "source": []
  }
 ],
 "metadata": {
  "kernelspec": {
   "display_name": "Python 3",
   "language": "python",
   "name": "python3"
  },
  "language_info": {
   "codemirror_mode": {
    "name": "ipython",
    "version": 3
   },
   "file_extension": ".py",
   "mimetype": "text/x-python",
   "name": "python",
   "nbconvert_exporter": "python",
   "pygments_lexer": "ipython3",
   "version": "3.8.5"
  }
 },
 "nbformat": 4,
 "nbformat_minor": 4
}
